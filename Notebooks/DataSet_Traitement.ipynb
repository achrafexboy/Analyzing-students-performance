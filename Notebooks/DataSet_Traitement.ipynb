{
 "cells": [
  {
   "cell_type": "markdown",
   "id": "1f11055e",
   "metadata": {},
   "source": [
    "# NoteBook : Convert State to GCode"
   ]
  },
  {
   "cell_type": "code",
   "execution_count": 7,
   "id": "219c0b97",
   "metadata": {},
   "outputs": [],
   "source": [
    "from geopy.geocoders import Nominatim\n",
    "import pandas as pd"
   ]
  },
  {
   "cell_type": "code",
   "execution_count": 8,
   "id": "3159b6d8",
   "metadata": {},
   "outputs": [],
   "source": [
    "geolocator = Nominatim(timeout=10, user_agent = \"myGeolocator\")"
   ]
  },
  {
   "cell_type": "code",
   "execution_count": 9,
   "id": "d81a627e",
   "metadata": {},
   "outputs": [],
   "source": [
    "df = pd.read_excel('Result1.xlsx')"
   ]
  },
  {
   "cell_type": "code",
   "execution_count": 10,
   "id": "de77c9d9",
   "metadata": {},
   "outputs": [
    {
     "data": {
      "text/html": [
       "<div>\n",
       "<style scoped>\n",
       "    .dataframe tbody tr th:only-of-type {\n",
       "        vertical-align: middle;\n",
       "    }\n",
       "\n",
       "    .dataframe tbody tr th {\n",
       "        vertical-align: top;\n",
       "    }\n",
       "\n",
       "    .dataframe thead th {\n",
       "        text-align: right;\n",
       "    }\n",
       "</style>\n",
       "<table border=\"1\" class=\"dataframe\">\n",
       "  <thead>\n",
       "    <tr style=\"text-align: right;\">\n",
       "      <th></th>\n",
       "      <th>gender</th>\n",
       "      <th>parental level of education</th>\n",
       "      <th>lunch</th>\n",
       "      <th>test preparation course</th>\n",
       "      <th>math score</th>\n",
       "      <th>reading score</th>\n",
       "      <th>writing score</th>\n",
       "      <th>State</th>\n",
       "      <th>gcode</th>\n",
       "      <th>lat</th>\n",
       "      <th>long</th>\n",
       "    </tr>\n",
       "  </thead>\n",
       "  <tbody>\n",
       "    <tr>\n",
       "      <th>0</th>\n",
       "      <td>female</td>\n",
       "      <td>bachelor's degree</td>\n",
       "      <td>standard</td>\n",
       "      <td>none</td>\n",
       "      <td>NaN</td>\n",
       "      <td>72.0</td>\n",
       "      <td>74.0</td>\n",
       "      <td>California</td>\n",
       "      <td>(California, United States, (36.7014631, -118....</td>\n",
       "      <td>36.701463</td>\n",
       "      <td>-118.755997</td>\n",
       "    </tr>\n",
       "    <tr>\n",
       "      <th>1</th>\n",
       "      <td>female</td>\n",
       "      <td>some college</td>\n",
       "      <td>standard</td>\n",
       "      <td>completed</td>\n",
       "      <td>69.0</td>\n",
       "      <td>90.0</td>\n",
       "      <td>88.0</td>\n",
       "      <td>Texas</td>\n",
       "      <td>(Texas, United States, (31.2638905, -98.5456116))</td>\n",
       "      <td>31.263890</td>\n",
       "      <td>-98.545612</td>\n",
       "    </tr>\n",
       "    <tr>\n",
       "      <th>2</th>\n",
       "      <td>female</td>\n",
       "      <td>master's degree</td>\n",
       "      <td>standard</td>\n",
       "      <td>none</td>\n",
       "      <td>90.0</td>\n",
       "      <td>95.0</td>\n",
       "      <td>93.0</td>\n",
       "      <td>California</td>\n",
       "      <td>(California, United States, (36.7014631, -118....</td>\n",
       "      <td>36.701463</td>\n",
       "      <td>-118.755997</td>\n",
       "    </tr>\n",
       "    <tr>\n",
       "      <th>3</th>\n",
       "      <td>male</td>\n",
       "      <td>associate's degree</td>\n",
       "      <td>free/reduced</td>\n",
       "      <td>none</td>\n",
       "      <td>47.0</td>\n",
       "      <td>57.0</td>\n",
       "      <td>44.0</td>\n",
       "      <td>Minnesota</td>\n",
       "      <td>(Minnesota, United States, (45.9896587, -94.61...</td>\n",
       "      <td>45.989659</td>\n",
       "      <td>-94.611329</td>\n",
       "    </tr>\n",
       "    <tr>\n",
       "      <th>4</th>\n",
       "      <td>male</td>\n",
       "      <td>some college</td>\n",
       "      <td>standard</td>\n",
       "      <td>none</td>\n",
       "      <td>76.0</td>\n",
       "      <td>78.0</td>\n",
       "      <td>75.0</td>\n",
       "      <td>Texas</td>\n",
       "      <td>(Texas, United States, (31.2638905, -98.5456116))</td>\n",
       "      <td>31.263890</td>\n",
       "      <td>-98.545612</td>\n",
       "    </tr>\n",
       "  </tbody>\n",
       "</table>\n",
       "</div>"
      ],
      "text/plain": [
       "   gender parental level of education         lunch test preparation course  \\\n",
       "0  female           bachelor's degree      standard                    none   \n",
       "1  female                some college      standard               completed   \n",
       "2  female             master's degree      standard                    none   \n",
       "3    male          associate's degree  free/reduced                    none   \n",
       "4    male                some college      standard                    none   \n",
       "\n",
       "   math score  reading score  writing score       State  \\\n",
       "0         NaN           72.0           74.0  California   \n",
       "1        69.0           90.0           88.0       Texas   \n",
       "2        90.0           95.0           93.0  California   \n",
       "3        47.0           57.0           44.0   Minnesota   \n",
       "4        76.0           78.0           75.0       Texas   \n",
       "\n",
       "                                               gcode        lat        long  \n",
       "0  (California, United States, (36.7014631, -118....  36.701463 -118.755997  \n",
       "1  (Texas, United States, (31.2638905, -98.5456116))  31.263890  -98.545612  \n",
       "2  (California, United States, (36.7014631, -118....  36.701463 -118.755997  \n",
       "3  (Minnesota, United States, (45.9896587, -94.61...  45.989659  -94.611329  \n",
       "4  (Texas, United States, (31.2638905, -98.5456116))  31.263890  -98.545612  "
      ]
     },
     "execution_count": 10,
     "metadata": {},
     "output_type": "execute_result"
    }
   ],
   "source": [
    "df['gcode'] = df.State.apply(geolocator.geocode)\n",
    "df['lat'] = [g.latitude for g in df.gcode]\n",
    "df['long'] = [g.longitude for g in df.gcode]\n",
    "df.head()"
   ]
  },
  {
   "cell_type": "markdown",
   "id": "d41edf62",
   "metadata": {},
   "source": [
    "### Exportation"
   ]
  },
  {
   "cell_type": "code",
   "execution_count": 11,
   "id": "e9d4683d",
   "metadata": {},
   "outputs": [],
   "source": [
    "df.to_excel('PEtudiant.xlsx')"
   ]
  },
  {
   "cell_type": "code",
   "execution_count": null,
   "id": "b46ea644",
   "metadata": {},
   "outputs": [],
   "source": []
  }
 ],
 "metadata": {
  "kernelspec": {
   "display_name": "Python 3 (ipykernel)",
   "language": "python",
   "name": "python3"
  },
  "language_info": {
   "codemirror_mode": {
    "name": "ipython",
    "version": 3
   },
   "file_extension": ".py",
   "mimetype": "text/x-python",
   "name": "python",
   "nbconvert_exporter": "python",
   "pygments_lexer": "ipython3",
   "version": "3.9.7"
  }
 },
 "nbformat": 4,
 "nbformat_minor": 5
}
